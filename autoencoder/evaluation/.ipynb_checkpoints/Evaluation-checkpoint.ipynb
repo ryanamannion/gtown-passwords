{
 "cells": [
  {
   "cell_type": "code",
   "execution_count": null,
   "metadata": {
    "colab": {
     "base_uri": "https://localhost:8080/"
    },
    "executionInfo": {
     "elapsed": 3338,
     "status": "ok",
     "timestamp": 1620453455092,
     "user": {
      "displayName": "Zihao Ye",
      "photoUrl": "https://lh3.googleusercontent.com/a-/AOh14GiL39Gkr9ULyAAnILNAWRoIYn6ms1WGRSv5r-Z1=s64",
      "userId": "08268785162675076394"
     },
     "user_tz": 240
    },
    "id": "cfb-XvkuOfXo",
    "outputId": "93b0b3ca-8219-44d6-86ce-3be71192adfb"
   },
   "outputs": [
    {
     "name": "stdout",
     "output_type": "stream",
     "text": [
      "Requirement already satisfied: BiEntropy in /usr/local/lib/python3.7/dist-packages (1.1.4)\n",
      "Requirement already satisfied: bitstring>=3.1.5 in /usr/local/lib/python3.7/dist-packages (from BiEntropy) (3.1.7)\n",
      "Requirement already satisfied: numpy>=1.11.2 in /usr/local/lib/python3.7/dist-packages (from BiEntropy) (1.19.5)\n",
      "Drive already mounted at /content/drive; to attempt to forcibly remount, call drive.mount(\"/content/drive\", force_remount=True).\n"
     ]
    }
   ],
   "source": [
    "!pip install BiEntropy\n",
    "\n",
    "import pandas as pd\n",
    "import numpy as np\n",
    "\n",
    "from bientropy import bien, tbien\n",
    "\n",
    "from google.colab import drive\n",
    "drive.mount('/content/drive')\n",
    "\n",
    "path = \"/content/drive/Shareddrives/ENLP Final Projects - Passwords/autoencoder/evaluation/\""
   ]
  },
  {
   "cell_type": "code",
   "execution_count": 24,
   "metadata": {
    "executionInfo": {
     "elapsed": 287,
     "status": "ok",
     "timestamp": 1620454554606,
     "user": {
      "displayName": "Zihao Ye",
      "photoUrl": "https://lh3.googleusercontent.com/a-/AOh14GiL39Gkr9ULyAAnILNAWRoIYn6ms1WGRSv5r-Z1=s64",
      "userId": "08268785162675076394"
     },
     "user_tz": 240
    },
    "id": "RxLDU186V88_"
   },
   "outputs": [],
   "source": [
    "def cal_entropy(passwords_path, result_path, pass_path_format=\"txt\"):\n",
    "  with open(path + \"data/\" + passwords_path, encoding='utf-8') as f:\n",
    "    passwords = []\n",
    "    entropy = []\n",
    "\n",
    "    readlines = f.readlines()\n",
    "    if pass_path_format == \"csv\":\n",
    "      # Need to clear the data\n",
    "      # Since it is a CSV file, there is a column name and index of the table\n",
    "      is_csv = True\n",
    "      is_first_row = True\n",
    "    else:\n",
    "      is_csv = False\n",
    "    \n",
    "    for line in readlines:\n",
    "      if is_csv:\n",
    "        # It is a csv file\n",
    "        if is_first_row:\n",
    "          # It is the first row\n",
    "          is_first_row = False\n",
    "          continue\n",
    "        \n",
    "        pswd = line.strip().split(\",\")[1]\n",
    "      else:\n",
    "        # It is a txt file\n",
    "        pswd = line.strip()\n",
    "      \n",
    "      if not pswd:\n",
    "        continue\n",
    "      passwords.append(pswd)\n",
    "      # Calculate the entropy\n",
    "      pswd_bytes = bytes(pswd, 'utf-8')\n",
    "      e = tbien(pswd_bytes)\n",
    "      entropy.append(e)\n",
    "\n",
    "  table = {\n",
    "      \"password\" : passwords,\n",
    "      \"entropy\": entropy\n",
    "  }\n",
    "\n",
    "  df_table = pd.DataFrame(table)\n",
    "  print(df_table)\n",
    "\n",
    "  # Store the table into a CSV file\n",
    "  df_table.to_csv(path + \"results/\" + result_path)"
   ]
  },
  {
   "cell_type": "markdown",
   "metadata": {
    "id": "3NZbOXdMXwN6"
   },
   "source": [
    "Baseline"
   ]
  },
  {
   "cell_type": "code",
   "execution_count": null,
   "metadata": {
    "colab": {
     "base_uri": "https://localhost:8080/"
    },
    "executionInfo": {
     "elapsed": 1103,
     "status": "ok",
     "timestamp": 1620453476698,
     "user": {
      "displayName": "Zihao Ye",
      "photoUrl": "https://lh3.googleusercontent.com/a-/AOh14GiL39Gkr9ULyAAnILNAWRoIYn6ms1WGRSv5r-Z1=s64",
      "userId": "08268785162675076394"
     },
     "user_tz": 240
    },
    "id": "aOdaDZq2WdlT",
    "outputId": "6ccbcf16-913f-4dd1-ffdf-7a5ac047fd6a"
   },
   "outputs": [
    {
     "name": "stdout",
     "output_type": "stream",
     "text": [
      "                                         password   entropy\n",
      "0           take.handling.survivor.cold.portfolio  0.975246\n",
      "1            idly.math.breach.plausibly.reprogram  0.964513\n",
      "2            flashily.headcount.wick.clump.garage  0.975006\n",
      "3      jaundice.street.tactless.crawfish.moonlike  0.970231\n",
      "4         patronize.rescuer.viselike.bonanza.spur  0.970190\n",
      "5      Crudely.Celibate.Cesspool.Animation.Catchy  0.956518\n",
      "6           Taste.Denture.Settle.Unnerving.Gallon  0.979731\n",
      "7     Armrest.Verbally.Defection.Publisher.Parcel  0.972793\n",
      "8        Survival.Yeast.Similarly.Crane.Retaining  0.967625\n",
      "9    Crusader.Multitask.Confound.External.Contour  0.974055\n",
      "10      daybed!drearily!lumpish!happier!capricorn  0.965858\n",
      "11     rogue!dealmaker!specked!crawfish!unfocused  0.976640\n",
      "12       bounding!captive!upriver!retouch!relearn  0.964995\n",
      "13          swapping!maroon!ferris!shaping!sprung  0.965966\n",
      "14           enviably!blob!silica!banish!register  0.970783\n",
      "15            Carnival!Coping!Coma!Napkin!Nurture  0.976170\n",
      "16          Shrimp!Sheep!Device!Shuffling!Badland  0.979353\n",
      "17    Dolphin!Overnight!Deprive!Numeral!Directory  0.973493\n",
      "18        Engraver!Catchy!Distinct!Overpay!Frenzy  0.980384\n",
      "19          Superjet!Unripe!Uncivil!Acquaint!Blot  0.979960\n",
      "20        uplifted-raven-purebred-splicing-siesta  0.975328\n",
      "21        mortuary-broadside-bling-anatomy-gander  0.970156\n",
      "22        gala-proposal-disarm-liability-engraved  0.962784\n",
      "23             askew-domelike-food-constrict-open  0.975339\n",
      "24            stifle-acronym-scoff-urchin-visible  0.971222\n",
      "25          Ice-Capital-Slapstick-Service-Earthen  0.979072\n",
      "26  Predefine-Sternness-Affair-Slapping-Overexert  0.983631\n",
      "27     Employee-Deforest-Unpopular-Voting-Predict  0.980137\n",
      "28        Garnish-Frivolous-Turban-Unrefined-Grip  0.981625\n",
      "29          Projector-Smoky-Echo-Harmonics-Bucked  0.979321\n",
      "30  dropbox@desecrate@unisexual@showman@itinerary  0.978185\n",
      "31  uniformed@overbuilt@conjuror@desktop@mushroom  0.974289\n",
      "32         glitzy@ankle@spinster@stylist@shakable  0.970956\n",
      "33        repugnant@wand@bundle@deskbound@gestate  0.968803\n",
      "34  unbalance@purgatory@reminder@basics@regulator  0.977788\n",
      "35           Fanfare@Studied@Imbecile@Duh@Reprint  0.969299\n",
      "36          Smolder@Brunette@Convent@Casino@Mumbo  0.970647\n",
      "37            Prominent@Deny@Pedicure@Flail@Groom  0.978449\n",
      "38         Kilobyte@Enable@Pedicure@Grandpa@Giant  0.967095\n",
      "39            Sleep@Upright@Gnarly@Flagship@Mauve  0.969663\n",
      "40             cornflakeguruemoteblurredrepulsion  0.950604\n",
      "41       stonewallsculptorvineyardlatherdivisible  0.957941\n",
      "42             brunetteunthawedchampiondeceitslum  0.962883\n",
      "43           carmakermuzzlerefoldmoralityuncaring  0.953721\n",
      "44           reptileembezzlecomfortcarrymountable  0.963098\n",
      "45            JunkiePungentConcealQualityArdently  0.980992\n",
      "46        UniformedUngreasedEngorgeHandsetSnowman  0.960669\n",
      "47          YonderOverstuffKinfolkMakeoverSwimmer  0.968037\n",
      "48         AttemptOccupyHandbrakeBarretteSubtitle  0.976683\n",
      "49        ExerciserWinningsConstructFootholdChili  0.975654\n"
     ]
    }
   ],
   "source": [
    "cal_entropy(\"baseline_sample_pass.txt\", \"baseline_entropy.csv\")"
   ]
  },
  {
   "cell_type": "markdown",
   "metadata": {
    "id": "J-9AH7fCX5AS"
   },
   "source": [
    "Memorability"
   ]
  },
  {
   "cell_type": "code",
   "execution_count": null,
   "metadata": {
    "colab": {
     "base_uri": "https://localhost:8080/"
    },
    "executionInfo": {
     "elapsed": 547,
     "status": "ok",
     "timestamp": 1620453479854,
     "user": {
      "displayName": "Zihao Ye",
      "photoUrl": "https://lh3.googleusercontent.com/a-/AOh14GiL39Gkr9ULyAAnILNAWRoIYn6ms1WGRSv5r-Z1=s64",
      "userId": "08268785162675076394"
     },
     "user_tz": 240
    },
    "id": "uRsv-Yk2Xtyr",
    "outputId": "25708e27-cfeb-4e00-a90d-4e55cde93c5b"
   },
   "outputs": [
    {
     "name": "stdout",
     "output_type": "stream",
     "text": [
      "                     password   entropy\n",
      "0                     fIsh,Yu  0.949542\n",
      "1                     Yu-gobY  0.935354\n",
      "2                  fIsh-yurOu  0.962707\n",
      "3                 yuleI_pOrgy  0.932334\n",
      "4   SebastodeSruberrimus-fIsh  0.980092\n",
      "5            yuLei.mudsKipper  0.977329\n",
      "6                     yU-fIsh  0.965061\n",
      "7            yulEi+mudskippeR  0.971556\n",
      "8           blackseabAss.fIsh  0.954149\n",
      "9                  pouT,Yurou  0.937299\n",
      "10                    yU_fi$H  0.946256\n",
      "11             cypRinod0nt_Yu  0.963149\n",
      "12                    fIsh-Yu  0.947065\n",
      "13      fisH,no&th3rn$3@robiN  0.977636\n",
      "14            PacIficcod-fI$h  0.914200\n",
      "15    Yu&0u&C@&a$s!usvuLg@&!s  0.978937\n",
      "16          Sc!aenidf!sh-fIsh  0.976558\n",
      "17                 yul3I.f!$H  0.952825\n",
      "18              fI$h,burRfish  0.980477\n",
      "19               Yu&dRiftf!$h  0.959873\n"
     ]
    }
   ],
   "source": [
    "cal_entropy(\"memorability_sample_pass.txt\", \"memorability_entropy.csv\")"
   ]
  },
  {
   "cell_type": "markdown",
   "metadata": {
    "id": "Nk2F_fVXYBvK"
   },
   "source": [
    "Cosine-Distance based bi-gram language model"
   ]
  },
  {
   "cell_type": "code",
   "execution_count": null,
   "metadata": {
    "colab": {
     "base_uri": "https://localhost:8080/"
    },
    "executionInfo": {
     "elapsed": 543,
     "status": "ok",
     "timestamp": 1620453482558,
     "user": {
      "displayName": "Zihao Ye",
      "photoUrl": "https://lh3.googleusercontent.com/a-/AOh14GiL39Gkr9ULyAAnILNAWRoIYn6ms1WGRSv5r-Z1=s64",
      "userId": "08268785162675076394"
     },
     "user_tz": 240
    },
    "id": "La_6ynw6XuF3",
    "outputId": "cc2621c8-f55d-4095-fee5-2ce96e0f9bc2"
   },
   "outputs": [
    {
     "name": "stdout",
     "output_type": "stream",
     "text": [
      "                                  password   entropy\n",
      "0              wherefore-ceremonious-brook  0.950094\n",
      "1                incessantlyselfishcabbage  0.947596\n",
      "2                     shingly-strong-salts  0.967757\n",
      "3                  courteouslycarefulbells  0.937927\n",
      "4                    such.lonely.parleying  0.960218\n",
      "...                                    ...       ...\n",
      "3995             howeverclangelsashpobbles  0.959082\n",
      "3996  cheerfully@troubled@pussy@publishing  0.950637\n",
      "3997        uneasily!bright!verses!scythes  0.946362\n",
      "3998          away.umbrageous.pobble.quill  0.968156\n",
      "3999      foolishly!soundest!stairs!squeak  0.971768\n",
      "\n",
      "[4000 rows x 2 columns]\n"
     ]
    }
   ],
   "source": [
    "cal_entropy(\"bigram_sample_pass.txt\", \"bigram_entropy.csv\")"
   ]
  },
  {
   "cell_type": "markdown",
   "metadata": {
    "id": "EjxLO2_fYC0S"
   },
   "source": [
    "LSTM language model"
   ]
  },
  {
   "cell_type": "code",
   "execution_count": null,
   "metadata": {
    "colab": {
     "base_uri": "https://localhost:8080/"
    },
    "executionInfo": {
     "elapsed": 527,
     "status": "ok",
     "timestamp": 1620453484988,
     "user": {
      "displayName": "Zihao Ye",
      "photoUrl": "https://lh3.googleusercontent.com/a-/AOh14GiL39Gkr9ULyAAnILNAWRoIYn6ms1WGRSv5r-Z1=s64",
      "userId": "08268785162675076394"
     },
     "user_tz": 240
    },
    "id": "vMO4i92QXuSV",
    "outputId": "2fb75d54-3c79-4fcf-ca50-a7cffcbd51d6"
   },
   "outputs": [
    {
     "name": "stdout",
     "output_type": "stream",
     "text": [
      "                         password   entropy\n",
      "0                        hot!eyes  0.954714\n",
      "1               syllogistic!abode  0.975555\n",
      "2                  fourth.sceptic  0.927753\n",
      "3                    feebleturtle  0.938104\n",
      "4                       younglady  0.783468\n",
      "...                           ...       ...\n",
      "4747    quite!mutton!saddel!treat  0.965388\n",
      "4748  instantlysteadfastopiumlive  0.959602\n",
      "4749       very-blue-bottle-flies  0.965565\n",
      "4750     rather@fat@sister@heaven  0.966352\n",
      "4751  sweetly.happy.sack.stoppers  0.947591\n",
      "\n",
      "[4752 rows x 2 columns]\n"
     ]
    }
   ],
   "source": [
    "cal_entropy(\"lstm_sample_pass.txt\", \"lstm_entropy.csv\")"
   ]
  },
  {
   "cell_type": "markdown",
   "metadata": {
    "id": "QKgkw_b9YHZ8"
   },
   "source": [
    "Encoder-Decoder"
   ]
  },
  {
   "cell_type": "code",
   "execution_count": 25,
   "metadata": {
    "colab": {
     "base_uri": "https://localhost:8080/"
    },
    "executionInfo": {
     "elapsed": 304,
     "status": "ok",
     "timestamp": 1620454558348,
     "user": {
      "displayName": "Zihao Ye",
      "photoUrl": "https://lh3.googleusercontent.com/a-/AOh14GiL39Gkr9ULyAAnILNAWRoIYn6ms1WGRSv5r-Z1=s64",
      "userId": "08268785162675076394"
     },
     "user_tz": 240
    },
    "id": "v94BUlYfYNOE",
    "outputId": "f58dffd3-5523-4e22-fb9f-c4cd33ed328d"
   },
   "outputs": [
    {
     "name": "stdout",
     "output_type": "stream",
     "text": [
      "           password   entropy\n",
      "0           Ababe2!  0.916014\n",
      "1           Tleet2!  0.950318\n",
      "2     AAyceemannn27  0.933567\n",
      "3        Aleet0019!  0.938100\n",
      "4           Ahabe2!  0.939317\n",
      "..              ...       ...\n",
      "95          Ahabe10  0.957760\n",
      "96           lletl!  0.894875\n",
      "97          Ababe2!  0.916014\n",
      "98      Ahyyer71014  0.905206\n",
      "99  Ahackerman2019!  0.964652\n",
      "\n",
      "[100 rows x 2 columns]\n"
     ]
    }
   ],
   "source": [
    "cal_entropy(\"vae_sample_pass.csv\", \"vae_entropy.csv\", pass_path_format=\"csv\")"
   ]
  }
 ],
 "metadata": {
  "colab": {
   "authorship_tag": "ABX9TyMLzv4fcyFBIMGqfirJJ0Rj",
   "collapsed_sections": [],
   "name": "Evaluation.ipynb",
   "provenance": []
  },
  "kernelspec": {
   "display_name": "Python 3",
   "language": "python",
   "name": "python3"
  },
  "language_info": {
   "codemirror_mode": {
    "name": "ipython",
    "version": 3
   },
   "file_extension": ".py",
   "mimetype": "text/x-python",
   "name": "python",
   "nbconvert_exporter": "python",
   "pygments_lexer": "ipython3",
   "version": "3.7.4"
  }
 },
 "nbformat": 4,
 "nbformat_minor": 1
}
