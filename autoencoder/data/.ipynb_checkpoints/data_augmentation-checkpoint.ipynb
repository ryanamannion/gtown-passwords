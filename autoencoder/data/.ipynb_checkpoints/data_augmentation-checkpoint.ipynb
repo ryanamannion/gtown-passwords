{
 "cells": [
  {
   "cell_type": "markdown",
   "metadata": {},
   "source": [
    "Generate more training data base on the following format:\n",
    "\n",
    "Capital + Word + Numeric + Special Character\n",
    "\n",
    "- Capital letters: A\\~Z\n",
    "- Word: from the DiceWords dataset\n",
    "- Numeric: 0\\~9, length around 4\\~5\n",
    "- Special Character: ‘!’, ‘@’, ‘$’, ‘%’, ‘*’, ‘_’"
   ]
  },
  {
   "cell_type": "code",
   "execution_count": null,
   "metadata": {},
   "outputs": [],
   "source": [
    "import pandas as pd\n",
    "import numpy as np\n",
    "\n",
    "from google.colab import drive\n",
    "drive.mount('/content/drive')\n",
    "\n",
    "path = \"/content/drive/Shareddrives/ENLP Final Projects - Passwords/autoencoder/\""
   ]
  },
  {
   "cell_type": "code",
   "execution_count": null,
   "metadata": {},
   "outputs": [],
   "source": [
    "import random\n",
    "\n",
    "def read_word_list():\n",
    "    word_list = []\n",
    "    with open(path + \"data/eff_large_wordlist.txt\", encoding='utf-8') as f:\n",
    "        readlines = f.readlines()\n",
    "        for line in readlines:\n",
    "            # \"11111 abcde\"\n",
    "            word_list.append(line.strip().split('\\t')[1])\n",
    "    \n",
    "    return word_list\n",
    "\n",
    "def generate_number():\n",
    "    \"\"\"\n",
    "    A sequence of number whose length is around 4~5\n",
    "    \"\"\"\n",
    "    num_str = \"\"\n",
    "    \n",
    "    length = random.randiant(4, 6)\n",
    "    for _ in range(length):\n",
    "        num_str += str(random.randiant(0, 10))\n",
    "    \n",
    "    return num_str"
   ]
  },
  {
   "cell_type": "code",
   "execution_count": null,
   "metadata": {},
   "outputs": [],
   "source": [
    "capitals = [chr(i) for i in range(65,91)]\n",
    "word_list = read_word_list()\n",
    "# number\n",
    "characters = [‘!’, ‘@’, ‘$’, ‘%’, ‘*’, ‘_’, '&', '~', '-']"
   ]
  },
  {
   "cell_type": "code",
   "execution_count": null,
   "metadata": {},
   "outputs": [],
   "source": [
    "# 预计10万个数据\n",
    "# 26个字母每个出现4000次\n",
    "# 55555个wor_list中的单词每个出现2次\n",
    "# 通过模型训练自然可以搭配出新的组合\n",
    "# 所以生成训练数据时不用太在意随机性，更应考虑数据分布是否平均\n",
    "passwords = []\n",
    "\n",
    "cnt_capital = 0\n",
    "cnt_char = 0\n",
    "word_list_len = len(word_list)\n",
    "for i in range(2 * word_list_len):\n",
    "    cap = capitals[cnt_capital]\n",
    "    word = word_list[i % word_list_len]\n",
    "    num_str = generate_nnumber()\n",
    "    c = characters[cnt_char]\n",
    "    \n",
    "    if cnt_capital >= len(capitals):\n",
    "        cnt_capital %= len(capitals)\n",
    "    if cnt_char >= len(characters):\n",
    "        cnt_char %= len(characters)\n",
    "        \n",
    "    passwords.append(cap + word + num_str + c)\n",
    "    \n",
    "passwords_df = pd.DataFrame(passwords, columns=\"Passwords\")\n",
    "\n",
    "# Save them into a CSV file\n",
    "passwords_df.to_csv(path + 'data/100000passwords.csv', sep=',')\n",
    "\n",
    "passwords_df.head(20)"
   ]
  }
 ],
 "metadata": {
  "kernelspec": {
   "display_name": "Python 3",
   "language": "python",
   "name": "python3"
  },
  "language_info": {
   "codemirror_mode": {
    "name": "ipython",
    "version": 3
   },
   "file_extension": ".py",
   "mimetype": "text/x-python",
   "name": "python",
   "nbconvert_exporter": "python",
   "pygments_lexer": "ipython3",
   "version": "3.7.4"
  }
 },
 "nbformat": 4,
 "nbformat_minor": 2
}
